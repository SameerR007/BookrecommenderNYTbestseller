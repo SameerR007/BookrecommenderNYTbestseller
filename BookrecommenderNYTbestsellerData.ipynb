{
  "nbformat": 4,
  "nbformat_minor": 0,
  "metadata": {
    "colab": {
      "provenance": [],
      "authorship_tag": "ABX9TyM+68VOi1k06hY7k3AafJoU",
      "include_colab_link": true
    },
    "kernelspec": {
      "name": "python3",
      "display_name": "Python 3"
    },
    "language_info": {
      "name": "python"
    }
  },
  "cells": [
    {
      "cell_type": "markdown",
      "metadata": {
        "id": "view-in-github",
        "colab_type": "text"
      },
      "source": [
        "<a href=\"https://colab.research.google.com/github/SameerR007/BookrecommenderNYTbestseller/blob/main/BookrecommenderNYTbestsellerData.ipynb\" target=\"_parent\"><img src=\"https://colab.research.google.com/assets/colab-badge.svg\" alt=\"Open In Colab\"/></a>"
      ]
    },
    {
      "cell_type": "code",
      "source": [
        "import pandas as pd\n",
        "data=pd.read_csv(\"booksnyt.csv\")"
      ],
      "metadata": {
        "id": "Leuy2d1rdKrQ"
      },
      "execution_count": 192,
      "outputs": []
    },
    {
      "cell_type": "code",
      "source": [
        "data.head()"
      ],
      "metadata": {
        "colab": {
          "base_uri": "https://localhost:8080/",
          "height": 528
        },
        "id": "YYv8vCMteVJE",
        "outputId": "2e96fa64-3ba5-4aa1-daf3-5e64d1e3eeef"
      },
      "execution_count": 193,
      "outputs": [
        {
          "output_type": "execute_result",
          "data": {
            "text/plain": [
              "   Unnamed: 0                                              title  \\\n",
              "0           0                                        HAPPY PLACE   \n",
              "1           1                                    IT ENDS WITH US   \n",
              "2           2  THE MAKING OF ANOTHER MAJOR MOTION PICTURE MAS...   \n",
              "3           3                                        FOURTH WING   \n",
              "4           4                               LESSONS IN CHEMISTRY   \n",
              "\n",
              "          author                             genres  \\\n",
              "0     EmilyHenry  combined-print-and-e-book-fiction   \n",
              "1  ColleenHoover  combined-print-and-e-book-fiction   \n",
              "2       TomHanks  combined-print-and-e-book-fiction   \n",
              "3  RebeccaYarros  combined-print-and-e-book-fiction   \n",
              "4   BonnieGarmus  combined-print-and-e-book-fiction   \n",
              "\n",
              "                                         description  \\\n",
              "0  A former couple pretend to be together for the...   \n",
              "1  A battered wife raised in a violent home attem...   \n",
              "2  A World War II soldier’s experiences inspire a...   \n",
              "3  Violet Sorrengail is urged by the commanding g...   \n",
              "4  A scientist and single mother living in Califo...   \n",
              "\n",
              "                                            title_gs  \\\n",
              "0                                        HAPPY+PLACE   \n",
              "1                                    IT+ENDS+WITH+US   \n",
              "2  THE+MAKING+OF+ANOTHER+MAJOR+MOTION+PICTURE+MAS...   \n",
              "3                                        FOURTH+WING   \n",
              "4                               LESSONS+IN+CHEMISTRY   \n",
              "\n",
              "                                                tags  \n",
              "0  combined-print-and-e-book-fict emilyhenri a fo...  \n",
              "1  combined-print-and-e-book-fict colleenhoov a b...  \n",
              "2  combined-print-and-e-book-fict tomhank a world...  \n",
              "3  combined-print-and-e-book-fict rebeccayarro vi...  \n",
              "4  combined-print-and-e-book-fict bonniegarmu a s...  "
            ],
            "text/html": [
              "\n",
              "  <div id=\"df-0adb3c4c-9181-4810-af4d-3913027d72fe\">\n",
              "    <div class=\"colab-df-container\">\n",
              "      <div>\n",
              "<style scoped>\n",
              "    .dataframe tbody tr th:only-of-type {\n",
              "        vertical-align: middle;\n",
              "    }\n",
              "\n",
              "    .dataframe tbody tr th {\n",
              "        vertical-align: top;\n",
              "    }\n",
              "\n",
              "    .dataframe thead th {\n",
              "        text-align: right;\n",
              "    }\n",
              "</style>\n",
              "<table border=\"1\" class=\"dataframe\">\n",
              "  <thead>\n",
              "    <tr style=\"text-align: right;\">\n",
              "      <th></th>\n",
              "      <th>Unnamed: 0</th>\n",
              "      <th>title</th>\n",
              "      <th>author</th>\n",
              "      <th>genres</th>\n",
              "      <th>description</th>\n",
              "      <th>title_gs</th>\n",
              "      <th>tags</th>\n",
              "    </tr>\n",
              "  </thead>\n",
              "  <tbody>\n",
              "    <tr>\n",
              "      <th>0</th>\n",
              "      <td>0</td>\n",
              "      <td>HAPPY PLACE</td>\n",
              "      <td>EmilyHenry</td>\n",
              "      <td>combined-print-and-e-book-fiction</td>\n",
              "      <td>A former couple pretend to be together for the...</td>\n",
              "      <td>HAPPY+PLACE</td>\n",
              "      <td>combined-print-and-e-book-fict emilyhenri a fo...</td>\n",
              "    </tr>\n",
              "    <tr>\n",
              "      <th>1</th>\n",
              "      <td>1</td>\n",
              "      <td>IT ENDS WITH US</td>\n",
              "      <td>ColleenHoover</td>\n",
              "      <td>combined-print-and-e-book-fiction</td>\n",
              "      <td>A battered wife raised in a violent home attem...</td>\n",
              "      <td>IT+ENDS+WITH+US</td>\n",
              "      <td>combined-print-and-e-book-fict colleenhoov a b...</td>\n",
              "    </tr>\n",
              "    <tr>\n",
              "      <th>2</th>\n",
              "      <td>2</td>\n",
              "      <td>THE MAKING OF ANOTHER MAJOR MOTION PICTURE MAS...</td>\n",
              "      <td>TomHanks</td>\n",
              "      <td>combined-print-and-e-book-fiction</td>\n",
              "      <td>A World War II soldier’s experiences inspire a...</td>\n",
              "      <td>THE+MAKING+OF+ANOTHER+MAJOR+MOTION+PICTURE+MAS...</td>\n",
              "      <td>combined-print-and-e-book-fict tomhank a world...</td>\n",
              "    </tr>\n",
              "    <tr>\n",
              "      <th>3</th>\n",
              "      <td>3</td>\n",
              "      <td>FOURTH WING</td>\n",
              "      <td>RebeccaYarros</td>\n",
              "      <td>combined-print-and-e-book-fiction</td>\n",
              "      <td>Violet Sorrengail is urged by the commanding g...</td>\n",
              "      <td>FOURTH+WING</td>\n",
              "      <td>combined-print-and-e-book-fict rebeccayarro vi...</td>\n",
              "    </tr>\n",
              "    <tr>\n",
              "      <th>4</th>\n",
              "      <td>4</td>\n",
              "      <td>LESSONS IN CHEMISTRY</td>\n",
              "      <td>BonnieGarmus</td>\n",
              "      <td>combined-print-and-e-book-fiction</td>\n",
              "      <td>A scientist and single mother living in Califo...</td>\n",
              "      <td>LESSONS+IN+CHEMISTRY</td>\n",
              "      <td>combined-print-and-e-book-fict bonniegarmu a s...</td>\n",
              "    </tr>\n",
              "  </tbody>\n",
              "</table>\n",
              "</div>\n",
              "      <button class=\"colab-df-convert\" onclick=\"convertToInteractive('df-0adb3c4c-9181-4810-af4d-3913027d72fe')\"\n",
              "              title=\"Convert this dataframe to an interactive table.\"\n",
              "              style=\"display:none;\">\n",
              "        \n",
              "  <svg xmlns=\"http://www.w3.org/2000/svg\" height=\"24px\"viewBox=\"0 0 24 24\"\n",
              "       width=\"24px\">\n",
              "    <path d=\"M0 0h24v24H0V0z\" fill=\"none\"/>\n",
              "    <path d=\"M18.56 5.44l.94 2.06.94-2.06 2.06-.94-2.06-.94-.94-2.06-.94 2.06-2.06.94zm-11 1L8.5 8.5l.94-2.06 2.06-.94-2.06-.94L8.5 2.5l-.94 2.06-2.06.94zm10 10l.94 2.06.94-2.06 2.06-.94-2.06-.94-.94-2.06-.94 2.06-2.06.94z\"/><path d=\"M17.41 7.96l-1.37-1.37c-.4-.4-.92-.59-1.43-.59-.52 0-1.04.2-1.43.59L10.3 9.45l-7.72 7.72c-.78.78-.78 2.05 0 2.83L4 21.41c.39.39.9.59 1.41.59.51 0 1.02-.2 1.41-.59l7.78-7.78 2.81-2.81c.8-.78.8-2.07 0-2.86zM5.41 20L4 18.59l7.72-7.72 1.47 1.35L5.41 20z\"/>\n",
              "  </svg>\n",
              "      </button>\n",
              "      \n",
              "  <style>\n",
              "    .colab-df-container {\n",
              "      display:flex;\n",
              "      flex-wrap:wrap;\n",
              "      gap: 12px;\n",
              "    }\n",
              "\n",
              "    .colab-df-convert {\n",
              "      background-color: #E8F0FE;\n",
              "      border: none;\n",
              "      border-radius: 50%;\n",
              "      cursor: pointer;\n",
              "      display: none;\n",
              "      fill: #1967D2;\n",
              "      height: 32px;\n",
              "      padding: 0 0 0 0;\n",
              "      width: 32px;\n",
              "    }\n",
              "\n",
              "    .colab-df-convert:hover {\n",
              "      background-color: #E2EBFA;\n",
              "      box-shadow: 0px 1px 2px rgba(60, 64, 67, 0.3), 0px 1px 3px 1px rgba(60, 64, 67, 0.15);\n",
              "      fill: #174EA6;\n",
              "    }\n",
              "\n",
              "    [theme=dark] .colab-df-convert {\n",
              "      background-color: #3B4455;\n",
              "      fill: #D2E3FC;\n",
              "    }\n",
              "\n",
              "    [theme=dark] .colab-df-convert:hover {\n",
              "      background-color: #434B5C;\n",
              "      box-shadow: 0px 1px 3px 1px rgba(0, 0, 0, 0.15);\n",
              "      filter: drop-shadow(0px 1px 2px rgba(0, 0, 0, 0.3));\n",
              "      fill: #FFFFFF;\n",
              "    }\n",
              "  </style>\n",
              "\n",
              "      <script>\n",
              "        const buttonEl =\n",
              "          document.querySelector('#df-0adb3c4c-9181-4810-af4d-3913027d72fe button.colab-df-convert');\n",
              "        buttonEl.style.display =\n",
              "          google.colab.kernel.accessAllowed ? 'block' : 'none';\n",
              "\n",
              "        async function convertToInteractive(key) {\n",
              "          const element = document.querySelector('#df-0adb3c4c-9181-4810-af4d-3913027d72fe');\n",
              "          const dataTable =\n",
              "            await google.colab.kernel.invokeFunction('convertToInteractive',\n",
              "                                                     [key], {});\n",
              "          if (!dataTable) return;\n",
              "\n",
              "          const docLinkHtml = 'Like what you see? Visit the ' +\n",
              "            '<a target=\"_blank\" href=https://colab.research.google.com/notebooks/data_table.ipynb>data table notebook</a>'\n",
              "            + ' to learn more about interactive tables.';\n",
              "          element.innerHTML = '';\n",
              "          dataTable['output_type'] = 'display_data';\n",
              "          await google.colab.output.renderOutput(dataTable, element);\n",
              "          const docLink = document.createElement('div');\n",
              "          docLink.innerHTML = docLinkHtml;\n",
              "          element.appendChild(docLink);\n",
              "        }\n",
              "      </script>\n",
              "    </div>\n",
              "  </div>\n",
              "  "
            ]
          },
          "metadata": {},
          "execution_count": 193
        }
      ]
    },
    {
      "cell_type": "code",
      "source": [
        "data.columns.tolist()"
      ],
      "metadata": {
        "colab": {
          "base_uri": "https://localhost:8080/"
        },
        "id": "cP8hIULwUQ89",
        "outputId": "f19cac0d-b55d-473a-b228-758de13de5f8"
      },
      "execution_count": 194,
      "outputs": [
        {
          "output_type": "execute_result",
          "data": {
            "text/plain": [
              "['Unnamed: 0', 'title', 'author', 'genres', 'description', 'title_gs', 'tags']"
            ]
          },
          "metadata": {},
          "execution_count": 194
        }
      ]
    },
    {
      "cell_type": "code",
      "source": [
        "data.drop(['Unnamed: 0','tags'],axis=1,inplace=True)"
      ],
      "metadata": {
        "id": "L4Y_ujniecr1"
      },
      "execution_count": 195,
      "outputs": []
    },
    {
      "cell_type": "code",
      "source": [
        "data.info()"
      ],
      "metadata": {
        "colab": {
          "base_uri": "https://localhost:8080/"
        },
        "id": "s1vXji2aesm-",
        "outputId": "05814fbb-2b75-4421-89d8-56ab0c17acfd"
      },
      "execution_count": 196,
      "outputs": [
        {
          "output_type": "stream",
          "name": "stdout",
          "text": [
            "<class 'pandas.core.frame.DataFrame'>\n",
            "RangeIndex: 90 entries, 0 to 89\n",
            "Data columns (total 5 columns):\n",
            " #   Column       Non-Null Count  Dtype \n",
            "---  ------       --------------  ----- \n",
            " 0   title        90 non-null     object\n",
            " 1   author       90 non-null     object\n",
            " 2   genres       90 non-null     object\n",
            " 3   description  70 non-null     object\n",
            " 4   title_gs     90 non-null     object\n",
            "dtypes: object(5)\n",
            "memory usage: 3.6+ KB\n"
          ]
        }
      ]
    },
    {
      "cell_type": "code",
      "source": [
        "data.columns.tolist()"
      ],
      "metadata": {
        "colab": {
          "base_uri": "https://localhost:8080/"
        },
        "id": "RD46mjmmFZwc",
        "outputId": "80829a3b-b007-4bfd-88e4-dcf0c55da86a"
      },
      "execution_count": 197,
      "outputs": [
        {
          "output_type": "execute_result",
          "data": {
            "text/plain": [
              "['title', 'author', 'genres', 'description', 'title_gs']"
            ]
          },
          "metadata": {},
          "execution_count": 197
        }
      ]
    },
    {
      "cell_type": "code",
      "source": [
        "import numpy as np\n",
        "data['description']=np.nan\n",
        "data['genres']=np.nan\n",
        "data['author']=np.nan\n",
        "data['img']=np.nan"
      ],
      "metadata": {
        "id": "4zGTvdW6sxPV"
      },
      "execution_count": 198,
      "outputs": []
    },
    {
      "cell_type": "code",
      "source": [
        "data.head()"
      ],
      "metadata": {
        "colab": {
          "base_uri": "https://localhost:8080/",
          "height": 267
        },
        "id": "wXZdgSXezliU",
        "outputId": "d1d868ac-d1a7-4337-eec3-b25e6dcc7d8f"
      },
      "execution_count": 199,
      "outputs": [
        {
          "output_type": "execute_result",
          "data": {
            "text/plain": [
              "                                               title  author  genres  \\\n",
              "0                                        HAPPY PLACE     NaN     NaN   \n",
              "1                                    IT ENDS WITH US     NaN     NaN   \n",
              "2  THE MAKING OF ANOTHER MAJOR MOTION PICTURE MAS...     NaN     NaN   \n",
              "3                                        FOURTH WING     NaN     NaN   \n",
              "4                               LESSONS IN CHEMISTRY     NaN     NaN   \n",
              "\n",
              "   description                                           title_gs  img  \n",
              "0          NaN                                        HAPPY+PLACE  NaN  \n",
              "1          NaN                                    IT+ENDS+WITH+US  NaN  \n",
              "2          NaN  THE+MAKING+OF+ANOTHER+MAJOR+MOTION+PICTURE+MAS...  NaN  \n",
              "3          NaN                                        FOURTH+WING  NaN  \n",
              "4          NaN                               LESSONS+IN+CHEMISTRY  NaN  "
            ],
            "text/html": [
              "\n",
              "  <div id=\"df-60968ba1-5f5e-4b4e-a175-a28a9638147f\">\n",
              "    <div class=\"colab-df-container\">\n",
              "      <div>\n",
              "<style scoped>\n",
              "    .dataframe tbody tr th:only-of-type {\n",
              "        vertical-align: middle;\n",
              "    }\n",
              "\n",
              "    .dataframe tbody tr th {\n",
              "        vertical-align: top;\n",
              "    }\n",
              "\n",
              "    .dataframe thead th {\n",
              "        text-align: right;\n",
              "    }\n",
              "</style>\n",
              "<table border=\"1\" class=\"dataframe\">\n",
              "  <thead>\n",
              "    <tr style=\"text-align: right;\">\n",
              "      <th></th>\n",
              "      <th>title</th>\n",
              "      <th>author</th>\n",
              "      <th>genres</th>\n",
              "      <th>description</th>\n",
              "      <th>title_gs</th>\n",
              "      <th>img</th>\n",
              "    </tr>\n",
              "  </thead>\n",
              "  <tbody>\n",
              "    <tr>\n",
              "      <th>0</th>\n",
              "      <td>HAPPY PLACE</td>\n",
              "      <td>NaN</td>\n",
              "      <td>NaN</td>\n",
              "      <td>NaN</td>\n",
              "      <td>HAPPY+PLACE</td>\n",
              "      <td>NaN</td>\n",
              "    </tr>\n",
              "    <tr>\n",
              "      <th>1</th>\n",
              "      <td>IT ENDS WITH US</td>\n",
              "      <td>NaN</td>\n",
              "      <td>NaN</td>\n",
              "      <td>NaN</td>\n",
              "      <td>IT+ENDS+WITH+US</td>\n",
              "      <td>NaN</td>\n",
              "    </tr>\n",
              "    <tr>\n",
              "      <th>2</th>\n",
              "      <td>THE MAKING OF ANOTHER MAJOR MOTION PICTURE MAS...</td>\n",
              "      <td>NaN</td>\n",
              "      <td>NaN</td>\n",
              "      <td>NaN</td>\n",
              "      <td>THE+MAKING+OF+ANOTHER+MAJOR+MOTION+PICTURE+MAS...</td>\n",
              "      <td>NaN</td>\n",
              "    </tr>\n",
              "    <tr>\n",
              "      <th>3</th>\n",
              "      <td>FOURTH WING</td>\n",
              "      <td>NaN</td>\n",
              "      <td>NaN</td>\n",
              "      <td>NaN</td>\n",
              "      <td>FOURTH+WING</td>\n",
              "      <td>NaN</td>\n",
              "    </tr>\n",
              "    <tr>\n",
              "      <th>4</th>\n",
              "      <td>LESSONS IN CHEMISTRY</td>\n",
              "      <td>NaN</td>\n",
              "      <td>NaN</td>\n",
              "      <td>NaN</td>\n",
              "      <td>LESSONS+IN+CHEMISTRY</td>\n",
              "      <td>NaN</td>\n",
              "    </tr>\n",
              "  </tbody>\n",
              "</table>\n",
              "</div>\n",
              "      <button class=\"colab-df-convert\" onclick=\"convertToInteractive('df-60968ba1-5f5e-4b4e-a175-a28a9638147f')\"\n",
              "              title=\"Convert this dataframe to an interactive table.\"\n",
              "              style=\"display:none;\">\n",
              "        \n",
              "  <svg xmlns=\"http://www.w3.org/2000/svg\" height=\"24px\"viewBox=\"0 0 24 24\"\n",
              "       width=\"24px\">\n",
              "    <path d=\"M0 0h24v24H0V0z\" fill=\"none\"/>\n",
              "    <path d=\"M18.56 5.44l.94 2.06.94-2.06 2.06-.94-2.06-.94-.94-2.06-.94 2.06-2.06.94zm-11 1L8.5 8.5l.94-2.06 2.06-.94-2.06-.94L8.5 2.5l-.94 2.06-2.06.94zm10 10l.94 2.06.94-2.06 2.06-.94-2.06-.94-.94-2.06-.94 2.06-2.06.94z\"/><path d=\"M17.41 7.96l-1.37-1.37c-.4-.4-.92-.59-1.43-.59-.52 0-1.04.2-1.43.59L10.3 9.45l-7.72 7.72c-.78.78-.78 2.05 0 2.83L4 21.41c.39.39.9.59 1.41.59.51 0 1.02-.2 1.41-.59l7.78-7.78 2.81-2.81c.8-.78.8-2.07 0-2.86zM5.41 20L4 18.59l7.72-7.72 1.47 1.35L5.41 20z\"/>\n",
              "  </svg>\n",
              "      </button>\n",
              "      \n",
              "  <style>\n",
              "    .colab-df-container {\n",
              "      display:flex;\n",
              "      flex-wrap:wrap;\n",
              "      gap: 12px;\n",
              "    }\n",
              "\n",
              "    .colab-df-convert {\n",
              "      background-color: #E8F0FE;\n",
              "      border: none;\n",
              "      border-radius: 50%;\n",
              "      cursor: pointer;\n",
              "      display: none;\n",
              "      fill: #1967D2;\n",
              "      height: 32px;\n",
              "      padding: 0 0 0 0;\n",
              "      width: 32px;\n",
              "    }\n",
              "\n",
              "    .colab-df-convert:hover {\n",
              "      background-color: #E2EBFA;\n",
              "      box-shadow: 0px 1px 2px rgba(60, 64, 67, 0.3), 0px 1px 3px 1px rgba(60, 64, 67, 0.15);\n",
              "      fill: #174EA6;\n",
              "    }\n",
              "\n",
              "    [theme=dark] .colab-df-convert {\n",
              "      background-color: #3B4455;\n",
              "      fill: #D2E3FC;\n",
              "    }\n",
              "\n",
              "    [theme=dark] .colab-df-convert:hover {\n",
              "      background-color: #434B5C;\n",
              "      box-shadow: 0px 1px 3px 1px rgba(0, 0, 0, 0.15);\n",
              "      filter: drop-shadow(0px 1px 2px rgba(0, 0, 0, 0.3));\n",
              "      fill: #FFFFFF;\n",
              "    }\n",
              "  </style>\n",
              "\n",
              "      <script>\n",
              "        const buttonEl =\n",
              "          document.querySelector('#df-60968ba1-5f5e-4b4e-a175-a28a9638147f button.colab-df-convert');\n",
              "        buttonEl.style.display =\n",
              "          google.colab.kernel.accessAllowed ? 'block' : 'none';\n",
              "\n",
              "        async function convertToInteractive(key) {\n",
              "          const element = document.querySelector('#df-60968ba1-5f5e-4b4e-a175-a28a9638147f');\n",
              "          const dataTable =\n",
              "            await google.colab.kernel.invokeFunction('convertToInteractive',\n",
              "                                                     [key], {});\n",
              "          if (!dataTable) return;\n",
              "\n",
              "          const docLinkHtml = 'Like what you see? Visit the ' +\n",
              "            '<a target=\"_blank\" href=https://colab.research.google.com/notebooks/data_table.ipynb>data table notebook</a>'\n",
              "            + ' to learn more about interactive tables.';\n",
              "          element.innerHTML = '';\n",
              "          dataTable['output_type'] = 'display_data';\n",
              "          await google.colab.output.renderOutput(dataTable, element);\n",
              "          const docLink = document.createElement('div');\n",
              "          docLink.innerHTML = docLinkHtml;\n",
              "          element.appendChild(docLink);\n",
              "        }\n",
              "      </script>\n",
              "    </div>\n",
              "  </div>\n",
              "  "
            ]
          },
          "metadata": {},
          "execution_count": 199
        }
      ]
    },
    {
      "cell_type": "code",
      "source": [
        "data.shape"
      ],
      "metadata": {
        "colab": {
          "base_uri": "https://localhost:8080/"
        },
        "id": "VvnGbipz6RBl",
        "outputId": "7a65f37b-ffd0-442d-f2d5-cca9a384af12"
      },
      "execution_count": 200,
      "outputs": [
        {
          "output_type": "execute_result",
          "data": {
            "text/plain": [
              "(90, 6)"
            ]
          },
          "metadata": {},
          "execution_count": 200
        }
      ]
    },
    {
      "cell_type": "code",
      "source": [
        "data.drop_duplicates([\"title\"],inplace=True)"
      ],
      "metadata": {
        "id": "H7P_Xt_bV2IM"
      },
      "execution_count": 201,
      "outputs": []
    },
    {
      "cell_type": "code",
      "source": [
        "data.head(15)"
      ],
      "metadata": {
        "colab": {
          "base_uri": "https://localhost:8080/",
          "height": 581
        },
        "id": "IFiYLhTzWBcS",
        "outputId": "5cf81c51-faa4-4bce-a6da-d2955c1c32d6"
      },
      "execution_count": 202,
      "outputs": [
        {
          "output_type": "execute_result",
          "data": {
            "text/plain": [
              "                                                title  author  genres  \\\n",
              "0                                         HAPPY PLACE     NaN     NaN   \n",
              "1                                     IT ENDS WITH US     NaN     NaN   \n",
              "2   THE MAKING OF ANOTHER MAJOR MOTION PICTURE MAS...     NaN     NaN   \n",
              "3                                         FOURTH WING     NaN     NaN   \n",
              "4                                LESSONS IN CHEMISTRY     NaN     NaN   \n",
              "5                                               SPARE     NaN     NaN   \n",
              "6                                           THE WAGER     NaN     NaN   \n",
              "7                                   THE DADDY DIARIES     NaN     NaN   \n",
              "8                                  THE LIGHT WE CARRY     NaN     NaN   \n",
              "9                            THE BODY KEEPS THE SCORE     NaN     NaN   \n",
              "14                                    QUEEN CHARLOTTE     NaN     NaN   \n",
              "19                                            OUTLIVE     NaN     NaN   \n",
              "21                                  IT STARTS WITH US     NaN     NaN   \n",
              "22                                MEET ME AT THE LAKE     NaN     NaN   \n",
              "23                                             VERITY     NaN     NaN   \n",
              "\n",
              "    description                                           title_gs  img  \n",
              "0           NaN                                        HAPPY+PLACE  NaN  \n",
              "1           NaN                                    IT+ENDS+WITH+US  NaN  \n",
              "2           NaN  THE+MAKING+OF+ANOTHER+MAJOR+MOTION+PICTURE+MAS...  NaN  \n",
              "3           NaN                                        FOURTH+WING  NaN  \n",
              "4           NaN                               LESSONS+IN+CHEMISTRY  NaN  \n",
              "5           NaN                                              SPARE  NaN  \n",
              "6           NaN                                          THE+WAGER  NaN  \n",
              "7           NaN                                  THE+DADDY+DIARIES  NaN  \n",
              "8           NaN                                 THE+LIGHT+WE+CARRY  NaN  \n",
              "9           NaN                           THE+BODY+KEEPS+THE+SCORE  NaN  \n",
              "14          NaN                                    QUEEN+CHARLOTTE  NaN  \n",
              "19          NaN                                            OUTLIVE  NaN  \n",
              "21          NaN                                  IT+STARTS+WITH+US  NaN  \n",
              "22          NaN                                MEET+ME+AT+THE+LAKE  NaN  \n",
              "23          NaN                                             VERITY  NaN  "
            ],
            "text/html": [
              "\n",
              "  <div id=\"df-c30d19d7-0e39-499c-8430-8a33b2ca1ac1\">\n",
              "    <div class=\"colab-df-container\">\n",
              "      <div>\n",
              "<style scoped>\n",
              "    .dataframe tbody tr th:only-of-type {\n",
              "        vertical-align: middle;\n",
              "    }\n",
              "\n",
              "    .dataframe tbody tr th {\n",
              "        vertical-align: top;\n",
              "    }\n",
              "\n",
              "    .dataframe thead th {\n",
              "        text-align: right;\n",
              "    }\n",
              "</style>\n",
              "<table border=\"1\" class=\"dataframe\">\n",
              "  <thead>\n",
              "    <tr style=\"text-align: right;\">\n",
              "      <th></th>\n",
              "      <th>title</th>\n",
              "      <th>author</th>\n",
              "      <th>genres</th>\n",
              "      <th>description</th>\n",
              "      <th>title_gs</th>\n",
              "      <th>img</th>\n",
              "    </tr>\n",
              "  </thead>\n",
              "  <tbody>\n",
              "    <tr>\n",
              "      <th>0</th>\n",
              "      <td>HAPPY PLACE</td>\n",
              "      <td>NaN</td>\n",
              "      <td>NaN</td>\n",
              "      <td>NaN</td>\n",
              "      <td>HAPPY+PLACE</td>\n",
              "      <td>NaN</td>\n",
              "    </tr>\n",
              "    <tr>\n",
              "      <th>1</th>\n",
              "      <td>IT ENDS WITH US</td>\n",
              "      <td>NaN</td>\n",
              "      <td>NaN</td>\n",
              "      <td>NaN</td>\n",
              "      <td>IT+ENDS+WITH+US</td>\n",
              "      <td>NaN</td>\n",
              "    </tr>\n",
              "    <tr>\n",
              "      <th>2</th>\n",
              "      <td>THE MAKING OF ANOTHER MAJOR MOTION PICTURE MAS...</td>\n",
              "      <td>NaN</td>\n",
              "      <td>NaN</td>\n",
              "      <td>NaN</td>\n",
              "      <td>THE+MAKING+OF+ANOTHER+MAJOR+MOTION+PICTURE+MAS...</td>\n",
              "      <td>NaN</td>\n",
              "    </tr>\n",
              "    <tr>\n",
              "      <th>3</th>\n",
              "      <td>FOURTH WING</td>\n",
              "      <td>NaN</td>\n",
              "      <td>NaN</td>\n",
              "      <td>NaN</td>\n",
              "      <td>FOURTH+WING</td>\n",
              "      <td>NaN</td>\n",
              "    </tr>\n",
              "    <tr>\n",
              "      <th>4</th>\n",
              "      <td>LESSONS IN CHEMISTRY</td>\n",
              "      <td>NaN</td>\n",
              "      <td>NaN</td>\n",
              "      <td>NaN</td>\n",
              "      <td>LESSONS+IN+CHEMISTRY</td>\n",
              "      <td>NaN</td>\n",
              "    </tr>\n",
              "    <tr>\n",
              "      <th>5</th>\n",
              "      <td>SPARE</td>\n",
              "      <td>NaN</td>\n",
              "      <td>NaN</td>\n",
              "      <td>NaN</td>\n",
              "      <td>SPARE</td>\n",
              "      <td>NaN</td>\n",
              "    </tr>\n",
              "    <tr>\n",
              "      <th>6</th>\n",
              "      <td>THE WAGER</td>\n",
              "      <td>NaN</td>\n",
              "      <td>NaN</td>\n",
              "      <td>NaN</td>\n",
              "      <td>THE+WAGER</td>\n",
              "      <td>NaN</td>\n",
              "    </tr>\n",
              "    <tr>\n",
              "      <th>7</th>\n",
              "      <td>THE DADDY DIARIES</td>\n",
              "      <td>NaN</td>\n",
              "      <td>NaN</td>\n",
              "      <td>NaN</td>\n",
              "      <td>THE+DADDY+DIARIES</td>\n",
              "      <td>NaN</td>\n",
              "    </tr>\n",
              "    <tr>\n",
              "      <th>8</th>\n",
              "      <td>THE LIGHT WE CARRY</td>\n",
              "      <td>NaN</td>\n",
              "      <td>NaN</td>\n",
              "      <td>NaN</td>\n",
              "      <td>THE+LIGHT+WE+CARRY</td>\n",
              "      <td>NaN</td>\n",
              "    </tr>\n",
              "    <tr>\n",
              "      <th>9</th>\n",
              "      <td>THE BODY KEEPS THE SCORE</td>\n",
              "      <td>NaN</td>\n",
              "      <td>NaN</td>\n",
              "      <td>NaN</td>\n",
              "      <td>THE+BODY+KEEPS+THE+SCORE</td>\n",
              "      <td>NaN</td>\n",
              "    </tr>\n",
              "    <tr>\n",
              "      <th>14</th>\n",
              "      <td>QUEEN CHARLOTTE</td>\n",
              "      <td>NaN</td>\n",
              "      <td>NaN</td>\n",
              "      <td>NaN</td>\n",
              "      <td>QUEEN+CHARLOTTE</td>\n",
              "      <td>NaN</td>\n",
              "    </tr>\n",
              "    <tr>\n",
              "      <th>19</th>\n",
              "      <td>OUTLIVE</td>\n",
              "      <td>NaN</td>\n",
              "      <td>NaN</td>\n",
              "      <td>NaN</td>\n",
              "      <td>OUTLIVE</td>\n",
              "      <td>NaN</td>\n",
              "    </tr>\n",
              "    <tr>\n",
              "      <th>21</th>\n",
              "      <td>IT STARTS WITH US</td>\n",
              "      <td>NaN</td>\n",
              "      <td>NaN</td>\n",
              "      <td>NaN</td>\n",
              "      <td>IT+STARTS+WITH+US</td>\n",
              "      <td>NaN</td>\n",
              "    </tr>\n",
              "    <tr>\n",
              "      <th>22</th>\n",
              "      <td>MEET ME AT THE LAKE</td>\n",
              "      <td>NaN</td>\n",
              "      <td>NaN</td>\n",
              "      <td>NaN</td>\n",
              "      <td>MEET+ME+AT+THE+LAKE</td>\n",
              "      <td>NaN</td>\n",
              "    </tr>\n",
              "    <tr>\n",
              "      <th>23</th>\n",
              "      <td>VERITY</td>\n",
              "      <td>NaN</td>\n",
              "      <td>NaN</td>\n",
              "      <td>NaN</td>\n",
              "      <td>VERITY</td>\n",
              "      <td>NaN</td>\n",
              "    </tr>\n",
              "  </tbody>\n",
              "</table>\n",
              "</div>\n",
              "      <button class=\"colab-df-convert\" onclick=\"convertToInteractive('df-c30d19d7-0e39-499c-8430-8a33b2ca1ac1')\"\n",
              "              title=\"Convert this dataframe to an interactive table.\"\n",
              "              style=\"display:none;\">\n",
              "        \n",
              "  <svg xmlns=\"http://www.w3.org/2000/svg\" height=\"24px\"viewBox=\"0 0 24 24\"\n",
              "       width=\"24px\">\n",
              "    <path d=\"M0 0h24v24H0V0z\" fill=\"none\"/>\n",
              "    <path d=\"M18.56 5.44l.94 2.06.94-2.06 2.06-.94-2.06-.94-.94-2.06-.94 2.06-2.06.94zm-11 1L8.5 8.5l.94-2.06 2.06-.94-2.06-.94L8.5 2.5l-.94 2.06-2.06.94zm10 10l.94 2.06.94-2.06 2.06-.94-2.06-.94-.94-2.06-.94 2.06-2.06.94z\"/><path d=\"M17.41 7.96l-1.37-1.37c-.4-.4-.92-.59-1.43-.59-.52 0-1.04.2-1.43.59L10.3 9.45l-7.72 7.72c-.78.78-.78 2.05 0 2.83L4 21.41c.39.39.9.59 1.41.59.51 0 1.02-.2 1.41-.59l7.78-7.78 2.81-2.81c.8-.78.8-2.07 0-2.86zM5.41 20L4 18.59l7.72-7.72 1.47 1.35L5.41 20z\"/>\n",
              "  </svg>\n",
              "      </button>\n",
              "      \n",
              "  <style>\n",
              "    .colab-df-container {\n",
              "      display:flex;\n",
              "      flex-wrap:wrap;\n",
              "      gap: 12px;\n",
              "    }\n",
              "\n",
              "    .colab-df-convert {\n",
              "      background-color: #E8F0FE;\n",
              "      border: none;\n",
              "      border-radius: 50%;\n",
              "      cursor: pointer;\n",
              "      display: none;\n",
              "      fill: #1967D2;\n",
              "      height: 32px;\n",
              "      padding: 0 0 0 0;\n",
              "      width: 32px;\n",
              "    }\n",
              "\n",
              "    .colab-df-convert:hover {\n",
              "      background-color: #E2EBFA;\n",
              "      box-shadow: 0px 1px 2px rgba(60, 64, 67, 0.3), 0px 1px 3px 1px rgba(60, 64, 67, 0.15);\n",
              "      fill: #174EA6;\n",
              "    }\n",
              "\n",
              "    [theme=dark] .colab-df-convert {\n",
              "      background-color: #3B4455;\n",
              "      fill: #D2E3FC;\n",
              "    }\n",
              "\n",
              "    [theme=dark] .colab-df-convert:hover {\n",
              "      background-color: #434B5C;\n",
              "      box-shadow: 0px 1px 3px 1px rgba(0, 0, 0, 0.15);\n",
              "      filter: drop-shadow(0px 1px 2px rgba(0, 0, 0, 0.3));\n",
              "      fill: #FFFFFF;\n",
              "    }\n",
              "  </style>\n",
              "\n",
              "      <script>\n",
              "        const buttonEl =\n",
              "          document.querySelector('#df-c30d19d7-0e39-499c-8430-8a33b2ca1ac1 button.colab-df-convert');\n",
              "        buttonEl.style.display =\n",
              "          google.colab.kernel.accessAllowed ? 'block' : 'none';\n",
              "\n",
              "        async function convertToInteractive(key) {\n",
              "          const element = document.querySelector('#df-c30d19d7-0e39-499c-8430-8a33b2ca1ac1');\n",
              "          const dataTable =\n",
              "            await google.colab.kernel.invokeFunction('convertToInteractive',\n",
              "                                                     [key], {});\n",
              "          if (!dataTable) return;\n",
              "\n",
              "          const docLinkHtml = 'Like what you see? Visit the ' +\n",
              "            '<a target=\"_blank\" href=https://colab.research.google.com/notebooks/data_table.ipynb>data table notebook</a>'\n",
              "            + ' to learn more about interactive tables.';\n",
              "          element.innerHTML = '';\n",
              "          dataTable['output_type'] = 'display_data';\n",
              "          await google.colab.output.renderOutput(dataTable, element);\n",
              "          const docLink = document.createElement('div');\n",
              "          docLink.innerHTML = docLinkHtml;\n",
              "          element.appendChild(docLink);\n",
              "        }\n",
              "      </script>\n",
              "    </div>\n",
              "  </div>\n",
              "  "
            ]
          },
          "metadata": {},
          "execution_count": 202
        }
      ]
    },
    {
      "cell_type": "code",
      "source": [
        "data.reset_index(inplace=True)"
      ],
      "metadata": {
        "id": "e5qJkmCnWXR9"
      },
      "execution_count": 203,
      "outputs": []
    },
    {
      "cell_type": "code",
      "source": [
        "data.head(20)"
      ],
      "metadata": {
        "colab": {
          "base_uri": "https://localhost:8080/",
          "height": 738
        },
        "id": "azvwkn2dWaNb",
        "outputId": "14309ba9-25d9-45b1-b939-fc740f79bb74"
      },
      "execution_count": 204,
      "outputs": [
        {
          "output_type": "execute_result",
          "data": {
            "text/plain": [
              "    index                                              title  author  genres  \\\n",
              "0       0                                        HAPPY PLACE     NaN     NaN   \n",
              "1       1                                    IT ENDS WITH US     NaN     NaN   \n",
              "2       2  THE MAKING OF ANOTHER MAJOR MOTION PICTURE MAS...     NaN     NaN   \n",
              "3       3                                        FOURTH WING     NaN     NaN   \n",
              "4       4                               LESSONS IN CHEMISTRY     NaN     NaN   \n",
              "5       5                                              SPARE     NaN     NaN   \n",
              "6       6                                          THE WAGER     NaN     NaN   \n",
              "7       7                                  THE DADDY DIARIES     NaN     NaN   \n",
              "8       8                                 THE LIGHT WE CARRY     NaN     NaN   \n",
              "9       9                           THE BODY KEEPS THE SCORE     NaN     NaN   \n",
              "10     14                                    QUEEN CHARLOTTE     NaN     NaN   \n",
              "11     19                                            OUTLIVE     NaN     NaN   \n",
              "12     21                                  IT STARTS WITH US     NaN     NaN   \n",
              "13     22                                MEET ME AT THE LAKE     NaN     NaN   \n",
              "14     23                                             VERITY     NaN     NaN   \n",
              "15     24                  THE SEVEN HUSBANDS OF EVELYN HUGO     NaN     NaN   \n",
              "16     26                                   CRYING IN H MART     NaN     NaN   \n",
              "17     27                                BRAIDING SWEETGRASS     NaN     NaN   \n",
              "18     28                         KILLERS OF THE FLOWER MOON     NaN     NaN   \n",
              "19     29                                  THE ESCAPE ARTIST     NaN     NaN   \n",
              "\n",
              "    description                                           title_gs  img  \n",
              "0           NaN                                        HAPPY+PLACE  NaN  \n",
              "1           NaN                                    IT+ENDS+WITH+US  NaN  \n",
              "2           NaN  THE+MAKING+OF+ANOTHER+MAJOR+MOTION+PICTURE+MAS...  NaN  \n",
              "3           NaN                                        FOURTH+WING  NaN  \n",
              "4           NaN                               LESSONS+IN+CHEMISTRY  NaN  \n",
              "5           NaN                                              SPARE  NaN  \n",
              "6           NaN                                          THE+WAGER  NaN  \n",
              "7           NaN                                  THE+DADDY+DIARIES  NaN  \n",
              "8           NaN                                 THE+LIGHT+WE+CARRY  NaN  \n",
              "9           NaN                           THE+BODY+KEEPS+THE+SCORE  NaN  \n",
              "10          NaN                                    QUEEN+CHARLOTTE  NaN  \n",
              "11          NaN                                            OUTLIVE  NaN  \n",
              "12          NaN                                  IT+STARTS+WITH+US  NaN  \n",
              "13          NaN                                MEET+ME+AT+THE+LAKE  NaN  \n",
              "14          NaN                                             VERITY  NaN  \n",
              "15          NaN                  THE+SEVEN+HUSBANDS+OF+EVELYN+HUGO  NaN  \n",
              "16          NaN                                   CRYING+IN+H+MART  NaN  \n",
              "17          NaN                                BRAIDING+SWEETGRASS  NaN  \n",
              "18          NaN                         KILLERS+OF+THE+FLOWER+MOON  NaN  \n",
              "19          NaN                                  THE+ESCAPE+ARTIST  NaN  "
            ],
            "text/html": [
              "\n",
              "  <div id=\"df-04b3ce95-d625-443a-b2af-c84d6336b523\">\n",
              "    <div class=\"colab-df-container\">\n",
              "      <div>\n",
              "<style scoped>\n",
              "    .dataframe tbody tr th:only-of-type {\n",
              "        vertical-align: middle;\n",
              "    }\n",
              "\n",
              "    .dataframe tbody tr th {\n",
              "        vertical-align: top;\n",
              "    }\n",
              "\n",
              "    .dataframe thead th {\n",
              "        text-align: right;\n",
              "    }\n",
              "</style>\n",
              "<table border=\"1\" class=\"dataframe\">\n",
              "  <thead>\n",
              "    <tr style=\"text-align: right;\">\n",
              "      <th></th>\n",
              "      <th>index</th>\n",
              "      <th>title</th>\n",
              "      <th>author</th>\n",
              "      <th>genres</th>\n",
              "      <th>description</th>\n",
              "      <th>title_gs</th>\n",
              "      <th>img</th>\n",
              "    </tr>\n",
              "  </thead>\n",
              "  <tbody>\n",
              "    <tr>\n",
              "      <th>0</th>\n",
              "      <td>0</td>\n",
              "      <td>HAPPY PLACE</td>\n",
              "      <td>NaN</td>\n",
              "      <td>NaN</td>\n",
              "      <td>NaN</td>\n",
              "      <td>HAPPY+PLACE</td>\n",
              "      <td>NaN</td>\n",
              "    </tr>\n",
              "    <tr>\n",
              "      <th>1</th>\n",
              "      <td>1</td>\n",
              "      <td>IT ENDS WITH US</td>\n",
              "      <td>NaN</td>\n",
              "      <td>NaN</td>\n",
              "      <td>NaN</td>\n",
              "      <td>IT+ENDS+WITH+US</td>\n",
              "      <td>NaN</td>\n",
              "    </tr>\n",
              "    <tr>\n",
              "      <th>2</th>\n",
              "      <td>2</td>\n",
              "      <td>THE MAKING OF ANOTHER MAJOR MOTION PICTURE MAS...</td>\n",
              "      <td>NaN</td>\n",
              "      <td>NaN</td>\n",
              "      <td>NaN</td>\n",
              "      <td>THE+MAKING+OF+ANOTHER+MAJOR+MOTION+PICTURE+MAS...</td>\n",
              "      <td>NaN</td>\n",
              "    </tr>\n",
              "    <tr>\n",
              "      <th>3</th>\n",
              "      <td>3</td>\n",
              "      <td>FOURTH WING</td>\n",
              "      <td>NaN</td>\n",
              "      <td>NaN</td>\n",
              "      <td>NaN</td>\n",
              "      <td>FOURTH+WING</td>\n",
              "      <td>NaN</td>\n",
              "    </tr>\n",
              "    <tr>\n",
              "      <th>4</th>\n",
              "      <td>4</td>\n",
              "      <td>LESSONS IN CHEMISTRY</td>\n",
              "      <td>NaN</td>\n",
              "      <td>NaN</td>\n",
              "      <td>NaN</td>\n",
              "      <td>LESSONS+IN+CHEMISTRY</td>\n",
              "      <td>NaN</td>\n",
              "    </tr>\n",
              "    <tr>\n",
              "      <th>5</th>\n",
              "      <td>5</td>\n",
              "      <td>SPARE</td>\n",
              "      <td>NaN</td>\n",
              "      <td>NaN</td>\n",
              "      <td>NaN</td>\n",
              "      <td>SPARE</td>\n",
              "      <td>NaN</td>\n",
              "    </tr>\n",
              "    <tr>\n",
              "      <th>6</th>\n",
              "      <td>6</td>\n",
              "      <td>THE WAGER</td>\n",
              "      <td>NaN</td>\n",
              "      <td>NaN</td>\n",
              "      <td>NaN</td>\n",
              "      <td>THE+WAGER</td>\n",
              "      <td>NaN</td>\n",
              "    </tr>\n",
              "    <tr>\n",
              "      <th>7</th>\n",
              "      <td>7</td>\n",
              "      <td>THE DADDY DIARIES</td>\n",
              "      <td>NaN</td>\n",
              "      <td>NaN</td>\n",
              "      <td>NaN</td>\n",
              "      <td>THE+DADDY+DIARIES</td>\n",
              "      <td>NaN</td>\n",
              "    </tr>\n",
              "    <tr>\n",
              "      <th>8</th>\n",
              "      <td>8</td>\n",
              "      <td>THE LIGHT WE CARRY</td>\n",
              "      <td>NaN</td>\n",
              "      <td>NaN</td>\n",
              "      <td>NaN</td>\n",
              "      <td>THE+LIGHT+WE+CARRY</td>\n",
              "      <td>NaN</td>\n",
              "    </tr>\n",
              "    <tr>\n",
              "      <th>9</th>\n",
              "      <td>9</td>\n",
              "      <td>THE BODY KEEPS THE SCORE</td>\n",
              "      <td>NaN</td>\n",
              "      <td>NaN</td>\n",
              "      <td>NaN</td>\n",
              "      <td>THE+BODY+KEEPS+THE+SCORE</td>\n",
              "      <td>NaN</td>\n",
              "    </tr>\n",
              "    <tr>\n",
              "      <th>10</th>\n",
              "      <td>14</td>\n",
              "      <td>QUEEN CHARLOTTE</td>\n",
              "      <td>NaN</td>\n",
              "      <td>NaN</td>\n",
              "      <td>NaN</td>\n",
              "      <td>QUEEN+CHARLOTTE</td>\n",
              "      <td>NaN</td>\n",
              "    </tr>\n",
              "    <tr>\n",
              "      <th>11</th>\n",
              "      <td>19</td>\n",
              "      <td>OUTLIVE</td>\n",
              "      <td>NaN</td>\n",
              "      <td>NaN</td>\n",
              "      <td>NaN</td>\n",
              "      <td>OUTLIVE</td>\n",
              "      <td>NaN</td>\n",
              "    </tr>\n",
              "    <tr>\n",
              "      <th>12</th>\n",
              "      <td>21</td>\n",
              "      <td>IT STARTS WITH US</td>\n",
              "      <td>NaN</td>\n",
              "      <td>NaN</td>\n",
              "      <td>NaN</td>\n",
              "      <td>IT+STARTS+WITH+US</td>\n",
              "      <td>NaN</td>\n",
              "    </tr>\n",
              "    <tr>\n",
              "      <th>13</th>\n",
              "      <td>22</td>\n",
              "      <td>MEET ME AT THE LAKE</td>\n",
              "      <td>NaN</td>\n",
              "      <td>NaN</td>\n",
              "      <td>NaN</td>\n",
              "      <td>MEET+ME+AT+THE+LAKE</td>\n",
              "      <td>NaN</td>\n",
              "    </tr>\n",
              "    <tr>\n",
              "      <th>14</th>\n",
              "      <td>23</td>\n",
              "      <td>VERITY</td>\n",
              "      <td>NaN</td>\n",
              "      <td>NaN</td>\n",
              "      <td>NaN</td>\n",
              "      <td>VERITY</td>\n",
              "      <td>NaN</td>\n",
              "    </tr>\n",
              "    <tr>\n",
              "      <th>15</th>\n",
              "      <td>24</td>\n",
              "      <td>THE SEVEN HUSBANDS OF EVELYN HUGO</td>\n",
              "      <td>NaN</td>\n",
              "      <td>NaN</td>\n",
              "      <td>NaN</td>\n",
              "      <td>THE+SEVEN+HUSBANDS+OF+EVELYN+HUGO</td>\n",
              "      <td>NaN</td>\n",
              "    </tr>\n",
              "    <tr>\n",
              "      <th>16</th>\n",
              "      <td>26</td>\n",
              "      <td>CRYING IN H MART</td>\n",
              "      <td>NaN</td>\n",
              "      <td>NaN</td>\n",
              "      <td>NaN</td>\n",
              "      <td>CRYING+IN+H+MART</td>\n",
              "      <td>NaN</td>\n",
              "    </tr>\n",
              "    <tr>\n",
              "      <th>17</th>\n",
              "      <td>27</td>\n",
              "      <td>BRAIDING SWEETGRASS</td>\n",
              "      <td>NaN</td>\n",
              "      <td>NaN</td>\n",
              "      <td>NaN</td>\n",
              "      <td>BRAIDING+SWEETGRASS</td>\n",
              "      <td>NaN</td>\n",
              "    </tr>\n",
              "    <tr>\n",
              "      <th>18</th>\n",
              "      <td>28</td>\n",
              "      <td>KILLERS OF THE FLOWER MOON</td>\n",
              "      <td>NaN</td>\n",
              "      <td>NaN</td>\n",
              "      <td>NaN</td>\n",
              "      <td>KILLERS+OF+THE+FLOWER+MOON</td>\n",
              "      <td>NaN</td>\n",
              "    </tr>\n",
              "    <tr>\n",
              "      <th>19</th>\n",
              "      <td>29</td>\n",
              "      <td>THE ESCAPE ARTIST</td>\n",
              "      <td>NaN</td>\n",
              "      <td>NaN</td>\n",
              "      <td>NaN</td>\n",
              "      <td>THE+ESCAPE+ARTIST</td>\n",
              "      <td>NaN</td>\n",
              "    </tr>\n",
              "  </tbody>\n",
              "</table>\n",
              "</div>\n",
              "      <button class=\"colab-df-convert\" onclick=\"convertToInteractive('df-04b3ce95-d625-443a-b2af-c84d6336b523')\"\n",
              "              title=\"Convert this dataframe to an interactive table.\"\n",
              "              style=\"display:none;\">\n",
              "        \n",
              "  <svg xmlns=\"http://www.w3.org/2000/svg\" height=\"24px\"viewBox=\"0 0 24 24\"\n",
              "       width=\"24px\">\n",
              "    <path d=\"M0 0h24v24H0V0z\" fill=\"none\"/>\n",
              "    <path d=\"M18.56 5.44l.94 2.06.94-2.06 2.06-.94-2.06-.94-.94-2.06-.94 2.06-2.06.94zm-11 1L8.5 8.5l.94-2.06 2.06-.94-2.06-.94L8.5 2.5l-.94 2.06-2.06.94zm10 10l.94 2.06.94-2.06 2.06-.94-2.06-.94-.94-2.06-.94 2.06-2.06.94z\"/><path d=\"M17.41 7.96l-1.37-1.37c-.4-.4-.92-.59-1.43-.59-.52 0-1.04.2-1.43.59L10.3 9.45l-7.72 7.72c-.78.78-.78 2.05 0 2.83L4 21.41c.39.39.9.59 1.41.59.51 0 1.02-.2 1.41-.59l7.78-7.78 2.81-2.81c.8-.78.8-2.07 0-2.86zM5.41 20L4 18.59l7.72-7.72 1.47 1.35L5.41 20z\"/>\n",
              "  </svg>\n",
              "      </button>\n",
              "      \n",
              "  <style>\n",
              "    .colab-df-container {\n",
              "      display:flex;\n",
              "      flex-wrap:wrap;\n",
              "      gap: 12px;\n",
              "    }\n",
              "\n",
              "    .colab-df-convert {\n",
              "      background-color: #E8F0FE;\n",
              "      border: none;\n",
              "      border-radius: 50%;\n",
              "      cursor: pointer;\n",
              "      display: none;\n",
              "      fill: #1967D2;\n",
              "      height: 32px;\n",
              "      padding: 0 0 0 0;\n",
              "      width: 32px;\n",
              "    }\n",
              "\n",
              "    .colab-df-convert:hover {\n",
              "      background-color: #E2EBFA;\n",
              "      box-shadow: 0px 1px 2px rgba(60, 64, 67, 0.3), 0px 1px 3px 1px rgba(60, 64, 67, 0.15);\n",
              "      fill: #174EA6;\n",
              "    }\n",
              "\n",
              "    [theme=dark] .colab-df-convert {\n",
              "      background-color: #3B4455;\n",
              "      fill: #D2E3FC;\n",
              "    }\n",
              "\n",
              "    [theme=dark] .colab-df-convert:hover {\n",
              "      background-color: #434B5C;\n",
              "      box-shadow: 0px 1px 3px 1px rgba(0, 0, 0, 0.15);\n",
              "      filter: drop-shadow(0px 1px 2px rgba(0, 0, 0, 0.3));\n",
              "      fill: #FFFFFF;\n",
              "    }\n",
              "  </style>\n",
              "\n",
              "      <script>\n",
              "        const buttonEl =\n",
              "          document.querySelector('#df-04b3ce95-d625-443a-b2af-c84d6336b523 button.colab-df-convert');\n",
              "        buttonEl.style.display =\n",
              "          google.colab.kernel.accessAllowed ? 'block' : 'none';\n",
              "\n",
              "        async function convertToInteractive(key) {\n",
              "          const element = document.querySelector('#df-04b3ce95-d625-443a-b2af-c84d6336b523');\n",
              "          const dataTable =\n",
              "            await google.colab.kernel.invokeFunction('convertToInteractive',\n",
              "                                                     [key], {});\n",
              "          if (!dataTable) return;\n",
              "\n",
              "          const docLinkHtml = 'Like what you see? Visit the ' +\n",
              "            '<a target=\"_blank\" href=https://colab.research.google.com/notebooks/data_table.ipynb>data table notebook</a>'\n",
              "            + ' to learn more about interactive tables.';\n",
              "          element.innerHTML = '';\n",
              "          dataTable['output_type'] = 'display_data';\n",
              "          await google.colab.output.renderOutput(dataTable, element);\n",
              "          const docLink = document.createElement('div');\n",
              "          docLink.innerHTML = docLinkHtml;\n",
              "          element.appendChild(docLink);\n",
              "        }\n",
              "      </script>\n",
              "    </div>\n",
              "  </div>\n",
              "  "
            ]
          },
          "metadata": {},
          "execution_count": 204
        }
      ]
    },
    {
      "cell_type": "code",
      "source": [
        "data.shape"
      ],
      "metadata": {
        "colab": {
          "base_uri": "https://localhost:8080/"
        },
        "id": "fpo3kLNXWdIz",
        "outputId": "5a2b9886-a124-41e2-ba81-aa724625d376"
      },
      "execution_count": 205,
      "outputs": [
        {
          "output_type": "execute_result",
          "data": {
            "text/plain": [
              "(74, 7)"
            ]
          },
          "metadata": {},
          "execution_count": 205
        }
      ]
    },
    {
      "cell_type": "code",
      "source": [
        "import requests\n",
        "j=0\n",
        "for i in data['title_gs']:\n",
        "    data_id=requests.get(\"https://www.googleapis.com/books/v1/volumes?q=\"+i).json()\n",
        "    try:\n",
        "      btt=str(data_id['items'][0]['volumeInfo']['title'])\n",
        "      ba=str(data_id['items'][0]['volumeInfo']['authors'][0])\n",
        "      data['title'][j]=btt\n",
        "      data['author'][j]=ba\n",
        "      data['img'][j]=data_id['items'][0]['volumeInfo']['imageLinks']['thumbnail']\n",
        "    except:\n",
        "      pass\n",
        "    try:\n",
        "      desc=str(data_id['items'][0]['volumeInfo']['description'])\n",
        "      data[\"description\"][j]=desc\n",
        "      print(j)\n",
        "    except:\n",
        "      pass\n",
        "    try:\n",
        "      data[\"genres\"][j]=str(data_id['items'][0]['volumeInfo']['categories'][0])\n",
        "    except:\n",
        "      data[\"genres\"][j]=\" \"\n",
        " \n",
        "    j=j+1\n"
      ],
      "metadata": {
        "colab": {
          "base_uri": "https://localhost:8080/"
        },
        "id": "w1CBZMtRtySq",
        "outputId": "fc7048fd-82dc-4805-ebc4-1952e7247817"
      },
      "execution_count": 206,
      "outputs": [
        {
          "output_type": "stream",
          "name": "stderr",
          "text": [
            "<ipython-input-206-1586a4ecb06d>:8: SettingWithCopyWarning: \n",
            "A value is trying to be set on a copy of a slice from a DataFrame\n",
            "\n",
            "See the caveats in the documentation: https://pandas.pydata.org/pandas-docs/stable/user_guide/indexing.html#returning-a-view-versus-a-copy\n",
            "  data['title'][j]=btt\n",
            "<ipython-input-206-1586a4ecb06d>:9: SettingWithCopyWarning: \n",
            "A value is trying to be set on a copy of a slice from a DataFrame\n",
            "\n",
            "See the caveats in the documentation: https://pandas.pydata.org/pandas-docs/stable/user_guide/indexing.html#returning-a-view-versus-a-copy\n",
            "  data['author'][j]=ba\n",
            "<ipython-input-206-1586a4ecb06d>:10: SettingWithCopyWarning: \n",
            "A value is trying to be set on a copy of a slice from a DataFrame\n",
            "\n",
            "See the caveats in the documentation: https://pandas.pydata.org/pandas-docs/stable/user_guide/indexing.html#returning-a-view-versus-a-copy\n",
            "  data['img'][j]=data_id['items'][0]['volumeInfo']['imageLinks']['thumbnail']\n",
            "<ipython-input-206-1586a4ecb06d>:15: SettingWithCopyWarning: \n",
            "A value is trying to be set on a copy of a slice from a DataFrame\n",
            "\n",
            "See the caveats in the documentation: https://pandas.pydata.org/pandas-docs/stable/user_guide/indexing.html#returning-a-view-versus-a-copy\n",
            "  data[\"description\"][j]=desc\n",
            "<ipython-input-206-1586a4ecb06d>:20: SettingWithCopyWarning: \n",
            "A value is trying to be set on a copy of a slice from a DataFrame\n",
            "\n",
            "See the caveats in the documentation: https://pandas.pydata.org/pandas-docs/stable/user_guide/indexing.html#returning-a-view-versus-a-copy\n",
            "  data[\"genres\"][j]=str(data_id['items'][0]['volumeInfo']['categories'][0])\n"
          ]
        },
        {
          "output_type": "stream",
          "name": "stdout",
          "text": [
            "0\n",
            "1\n",
            "2\n",
            "3\n",
            "4\n",
            "5\n",
            "7\n",
            "8\n",
            "9\n",
            "10\n",
            "11\n",
            "12\n",
            "13\n",
            "14\n",
            "15\n",
            "16\n",
            "17\n",
            "18\n",
            "19\n",
            "20\n",
            "21\n",
            "22\n",
            "23\n",
            "24\n",
            "25\n",
            "26\n",
            "27\n",
            "28\n",
            "29\n",
            "30\n",
            "31\n",
            "32\n",
            "33\n",
            "34\n",
            "35\n",
            "36\n",
            "37\n",
            "38\n",
            "39\n",
            "40\n",
            "41\n",
            "42\n",
            "43\n",
            "44\n",
            "45\n",
            "46\n",
            "47\n",
            "48\n",
            "49\n",
            "50\n",
            "51\n",
            "52\n",
            "53\n",
            "54\n",
            "55\n",
            "56\n",
            "57\n",
            "58\n",
            "59\n",
            "60\n",
            "61\n",
            "62\n",
            "63\n",
            "64\n",
            "65\n",
            "66\n",
            "67\n",
            "68\n",
            "69\n",
            "70\n",
            "71\n",
            "72\n",
            "73\n"
          ]
        }
      ]
    },
    {
      "cell_type": "code",
      "source": [
        "data.head(80)"
      ],
      "metadata": {
        "colab": {
          "base_uri": "https://localhost:8080/",
          "height": 1000
        },
        "id": "vrEcUI8owSxf",
        "outputId": "611b048d-e3c0-45d5-d01d-9800bcf5533a"
      },
      "execution_count": 222,
      "outputs": [
        {
          "output_type": "execute_result",
          "data": {
            "text/plain": [
              "    index                                              title           author  \\\n",
              "0       0                                        Happy Place       EmilyHenry   \n",
              "1       1                                    It Ends with Us    ColleenHoover   \n",
              "2       2  The Making of Another Major Motion Picture Mas...         TomHanks   \n",
              "3       3                                        Fourth Wing    RebeccaYarros   \n",
              "4       4                               Lessons in Chemistry     BonnieGarmus   \n",
              "..    ...                                                ...              ...   \n",
              "69     85                             If He Had Been with Me      LauraNowlin   \n",
              "70     86                                     Girl in Pieces  KathleenGlasgow   \n",
              "71     87                             Better Than the Movies      LynnPainter   \n",
              "72     88                               The Way I Used to Be       AmberSmith   \n",
              "73     89                                 One Of Us Is Lying   KarenM.McManus   \n",
              "\n",
              "                 genres                                        description  \\\n",
              "0               Fiction  Harriet and Wyn are the perfect couple - they ...   \n",
              "1               Fiction  In this “brave and heartbreaking novel that di...   \n",
              "2               Fiction  From the Academy Award-winning actor and bests...   \n",
              "3               Fiction  An Instant New York Times Bestseller An Amazon...   \n",
              "4               Fiction  As read on BBC Radio 4 Book at Bedtime THE #1 ...   \n",
              "..                  ...                                                ...   \n",
              "69     Juvenile Fiction  If he had been with me everything would have b...   \n",
              "70  Young Adult Fiction  #1 NEW YORK TIMES BESTSELLER \"A haunting, beau...   \n",
              "71     Juvenile Fiction  A USA TODAY and New York Times bestseller Perf...   \n",
              "72  Young Adult Fiction  \"After fourteen-year-old Eden is raped by her ...   \n",
              "73  Young Adult Fiction  The international bestselling YA thriller by a...   \n",
              "\n",
              "                                             title_gs  \\\n",
              "0                                         HAPPY+PLACE   \n",
              "1                                     IT+ENDS+WITH+US   \n",
              "2   THE+MAKING+OF+ANOTHER+MAJOR+MOTION+PICTURE+MAS...   \n",
              "3                                         FOURTH+WING   \n",
              "4                                LESSONS+IN+CHEMISTRY   \n",
              "..                                                ...   \n",
              "69                             IF+HE+HAD+BEEN+WITH+ME   \n",
              "70                                     GIRL+IN+PIECES   \n",
              "71                             BETTER+THAN+THE+MOVIES   \n",
              "72                               THE+WAY+I+USED+TO+BE   \n",
              "73                                 ONE+OF+US+IS+LYING   \n",
              "\n",
              "                                                  img  \\\n",
              "0   http://books.google.com/books/content?id=-AxSz...   \n",
              "1   http://books.google.com/books/content?id=wmnuD...   \n",
              "2   http://books.google.com/books/content?id=H8aOE...   \n",
              "3   http://books.google.com/books/content?id=E-OLE...   \n",
              "4   http://books.google.com/books/content?id=G2U4E...   \n",
              "..                                                ...   \n",
              "69  http://books.google.com/books/content?id=MvfeC...   \n",
              "70  http://books.google.com/books/content?id=5bRQC...   \n",
              "71  http://books.google.com/books/content?id=pep9E...   \n",
              "72  http://books.google.com/books/content?id=K0Q8D...   \n",
              "73  http://books.google.com/books/content?id=F_qhD...   \n",
              "\n",
              "                                                 tags  \n",
              "0   fiction emilyhenry harriet and wyn are the per...  \n",
              "1   fiction colleenhoover in this “brave and heart...  \n",
              "2   fiction tomhanks from the academy award-winnin...  \n",
              "3   fiction rebeccayarros an instant new york time...  \n",
              "4   fiction bonniegarmus as read on bbc radio 4 bo...  \n",
              "..                                                ...  \n",
              "69  juvenile fiction lauranowlin if he had been wi...  \n",
              "70  young adult fiction kathleenglasgow #1 new yor...  \n",
              "71  juvenile fiction lynnpainter a usa today and n...  \n",
              "72  young adult fiction ambersmith \"after fourteen...  \n",
              "73  young adult fiction karenm.mcmanus the interna...  \n",
              "\n",
              "[72 rows x 8 columns]"
            ],
            "text/html": [
              "\n",
              "  <div id=\"df-14f00866-46c6-484e-bf55-cdf6a158612e\">\n",
              "    <div class=\"colab-df-container\">\n",
              "      <div>\n",
              "<style scoped>\n",
              "    .dataframe tbody tr th:only-of-type {\n",
              "        vertical-align: middle;\n",
              "    }\n",
              "\n",
              "    .dataframe tbody tr th {\n",
              "        vertical-align: top;\n",
              "    }\n",
              "\n",
              "    .dataframe thead th {\n",
              "        text-align: right;\n",
              "    }\n",
              "</style>\n",
              "<table border=\"1\" class=\"dataframe\">\n",
              "  <thead>\n",
              "    <tr style=\"text-align: right;\">\n",
              "      <th></th>\n",
              "      <th>index</th>\n",
              "      <th>title</th>\n",
              "      <th>author</th>\n",
              "      <th>genres</th>\n",
              "      <th>description</th>\n",
              "      <th>title_gs</th>\n",
              "      <th>img</th>\n",
              "      <th>tags</th>\n",
              "    </tr>\n",
              "  </thead>\n",
              "  <tbody>\n",
              "    <tr>\n",
              "      <th>0</th>\n",
              "      <td>0</td>\n",
              "      <td>Happy Place</td>\n",
              "      <td>EmilyHenry</td>\n",
              "      <td>Fiction</td>\n",
              "      <td>Harriet and Wyn are the perfect couple - they ...</td>\n",
              "      <td>HAPPY+PLACE</td>\n",
              "      <td>http://books.google.com/books/content?id=-AxSz...</td>\n",
              "      <td>fiction emilyhenry harriet and wyn are the per...</td>\n",
              "    </tr>\n",
              "    <tr>\n",
              "      <th>1</th>\n",
              "      <td>1</td>\n",
              "      <td>It Ends with Us</td>\n",
              "      <td>ColleenHoover</td>\n",
              "      <td>Fiction</td>\n",
              "      <td>In this “brave and heartbreaking novel that di...</td>\n",
              "      <td>IT+ENDS+WITH+US</td>\n",
              "      <td>http://books.google.com/books/content?id=wmnuD...</td>\n",
              "      <td>fiction colleenhoover in this “brave and heart...</td>\n",
              "    </tr>\n",
              "    <tr>\n",
              "      <th>2</th>\n",
              "      <td>2</td>\n",
              "      <td>The Making of Another Major Motion Picture Mas...</td>\n",
              "      <td>TomHanks</td>\n",
              "      <td>Fiction</td>\n",
              "      <td>From the Academy Award-winning actor and bests...</td>\n",
              "      <td>THE+MAKING+OF+ANOTHER+MAJOR+MOTION+PICTURE+MAS...</td>\n",
              "      <td>http://books.google.com/books/content?id=H8aOE...</td>\n",
              "      <td>fiction tomhanks from the academy award-winnin...</td>\n",
              "    </tr>\n",
              "    <tr>\n",
              "      <th>3</th>\n",
              "      <td>3</td>\n",
              "      <td>Fourth Wing</td>\n",
              "      <td>RebeccaYarros</td>\n",
              "      <td>Fiction</td>\n",
              "      <td>An Instant New York Times Bestseller An Amazon...</td>\n",
              "      <td>FOURTH+WING</td>\n",
              "      <td>http://books.google.com/books/content?id=E-OLE...</td>\n",
              "      <td>fiction rebeccayarros an instant new york time...</td>\n",
              "    </tr>\n",
              "    <tr>\n",
              "      <th>4</th>\n",
              "      <td>4</td>\n",
              "      <td>Lessons in Chemistry</td>\n",
              "      <td>BonnieGarmus</td>\n",
              "      <td>Fiction</td>\n",
              "      <td>As read on BBC Radio 4 Book at Bedtime THE #1 ...</td>\n",
              "      <td>LESSONS+IN+CHEMISTRY</td>\n",
              "      <td>http://books.google.com/books/content?id=G2U4E...</td>\n",
              "      <td>fiction bonniegarmus as read on bbc radio 4 bo...</td>\n",
              "    </tr>\n",
              "    <tr>\n",
              "      <th>...</th>\n",
              "      <td>...</td>\n",
              "      <td>...</td>\n",
              "      <td>...</td>\n",
              "      <td>...</td>\n",
              "      <td>...</td>\n",
              "      <td>...</td>\n",
              "      <td>...</td>\n",
              "      <td>...</td>\n",
              "    </tr>\n",
              "    <tr>\n",
              "      <th>69</th>\n",
              "      <td>85</td>\n",
              "      <td>If He Had Been with Me</td>\n",
              "      <td>LauraNowlin</td>\n",
              "      <td>Juvenile Fiction</td>\n",
              "      <td>If he had been with me everything would have b...</td>\n",
              "      <td>IF+HE+HAD+BEEN+WITH+ME</td>\n",
              "      <td>http://books.google.com/books/content?id=MvfeC...</td>\n",
              "      <td>juvenile fiction lauranowlin if he had been wi...</td>\n",
              "    </tr>\n",
              "    <tr>\n",
              "      <th>70</th>\n",
              "      <td>86</td>\n",
              "      <td>Girl in Pieces</td>\n",
              "      <td>KathleenGlasgow</td>\n",
              "      <td>Young Adult Fiction</td>\n",
              "      <td>#1 NEW YORK TIMES BESTSELLER \"A haunting, beau...</td>\n",
              "      <td>GIRL+IN+PIECES</td>\n",
              "      <td>http://books.google.com/books/content?id=5bRQC...</td>\n",
              "      <td>young adult fiction kathleenglasgow #1 new yor...</td>\n",
              "    </tr>\n",
              "    <tr>\n",
              "      <th>71</th>\n",
              "      <td>87</td>\n",
              "      <td>Better Than the Movies</td>\n",
              "      <td>LynnPainter</td>\n",
              "      <td>Juvenile Fiction</td>\n",
              "      <td>A USA TODAY and New York Times bestseller Perf...</td>\n",
              "      <td>BETTER+THAN+THE+MOVIES</td>\n",
              "      <td>http://books.google.com/books/content?id=pep9E...</td>\n",
              "      <td>juvenile fiction lynnpainter a usa today and n...</td>\n",
              "    </tr>\n",
              "    <tr>\n",
              "      <th>72</th>\n",
              "      <td>88</td>\n",
              "      <td>The Way I Used to Be</td>\n",
              "      <td>AmberSmith</td>\n",
              "      <td>Young Adult Fiction</td>\n",
              "      <td>\"After fourteen-year-old Eden is raped by her ...</td>\n",
              "      <td>THE+WAY+I+USED+TO+BE</td>\n",
              "      <td>http://books.google.com/books/content?id=K0Q8D...</td>\n",
              "      <td>young adult fiction ambersmith \"after fourteen...</td>\n",
              "    </tr>\n",
              "    <tr>\n",
              "      <th>73</th>\n",
              "      <td>89</td>\n",
              "      <td>One Of Us Is Lying</td>\n",
              "      <td>KarenM.McManus</td>\n",
              "      <td>Young Adult Fiction</td>\n",
              "      <td>The international bestselling YA thriller by a...</td>\n",
              "      <td>ONE+OF+US+IS+LYING</td>\n",
              "      <td>http://books.google.com/books/content?id=F_qhD...</td>\n",
              "      <td>young adult fiction karenm.mcmanus the interna...</td>\n",
              "    </tr>\n",
              "  </tbody>\n",
              "</table>\n",
              "<p>72 rows × 8 columns</p>\n",
              "</div>\n",
              "      <button class=\"colab-df-convert\" onclick=\"convertToInteractive('df-14f00866-46c6-484e-bf55-cdf6a158612e')\"\n",
              "              title=\"Convert this dataframe to an interactive table.\"\n",
              "              style=\"display:none;\">\n",
              "        \n",
              "  <svg xmlns=\"http://www.w3.org/2000/svg\" height=\"24px\"viewBox=\"0 0 24 24\"\n",
              "       width=\"24px\">\n",
              "    <path d=\"M0 0h24v24H0V0z\" fill=\"none\"/>\n",
              "    <path d=\"M18.56 5.44l.94 2.06.94-2.06 2.06-.94-2.06-.94-.94-2.06-.94 2.06-2.06.94zm-11 1L8.5 8.5l.94-2.06 2.06-.94-2.06-.94L8.5 2.5l-.94 2.06-2.06.94zm10 10l.94 2.06.94-2.06 2.06-.94-2.06-.94-.94-2.06-.94 2.06-2.06.94z\"/><path d=\"M17.41 7.96l-1.37-1.37c-.4-.4-.92-.59-1.43-.59-.52 0-1.04.2-1.43.59L10.3 9.45l-7.72 7.72c-.78.78-.78 2.05 0 2.83L4 21.41c.39.39.9.59 1.41.59.51 0 1.02-.2 1.41-.59l7.78-7.78 2.81-2.81c.8-.78.8-2.07 0-2.86zM5.41 20L4 18.59l7.72-7.72 1.47 1.35L5.41 20z\"/>\n",
              "  </svg>\n",
              "      </button>\n",
              "      \n",
              "  <style>\n",
              "    .colab-df-container {\n",
              "      display:flex;\n",
              "      flex-wrap:wrap;\n",
              "      gap: 12px;\n",
              "    }\n",
              "\n",
              "    .colab-df-convert {\n",
              "      background-color: #E8F0FE;\n",
              "      border: none;\n",
              "      border-radius: 50%;\n",
              "      cursor: pointer;\n",
              "      display: none;\n",
              "      fill: #1967D2;\n",
              "      height: 32px;\n",
              "      padding: 0 0 0 0;\n",
              "      width: 32px;\n",
              "    }\n",
              "\n",
              "    .colab-df-convert:hover {\n",
              "      background-color: #E2EBFA;\n",
              "      box-shadow: 0px 1px 2px rgba(60, 64, 67, 0.3), 0px 1px 3px 1px rgba(60, 64, 67, 0.15);\n",
              "      fill: #174EA6;\n",
              "    }\n",
              "\n",
              "    [theme=dark] .colab-df-convert {\n",
              "      background-color: #3B4455;\n",
              "      fill: #D2E3FC;\n",
              "    }\n",
              "\n",
              "    [theme=dark] .colab-df-convert:hover {\n",
              "      background-color: #434B5C;\n",
              "      box-shadow: 0px 1px 3px 1px rgba(0, 0, 0, 0.15);\n",
              "      filter: drop-shadow(0px 1px 2px rgba(0, 0, 0, 0.3));\n",
              "      fill: #FFFFFF;\n",
              "    }\n",
              "  </style>\n",
              "\n",
              "      <script>\n",
              "        const buttonEl =\n",
              "          document.querySelector('#df-14f00866-46c6-484e-bf55-cdf6a158612e button.colab-df-convert');\n",
              "        buttonEl.style.display =\n",
              "          google.colab.kernel.accessAllowed ? 'block' : 'none';\n",
              "\n",
              "        async function convertToInteractive(key) {\n",
              "          const element = document.querySelector('#df-14f00866-46c6-484e-bf55-cdf6a158612e');\n",
              "          const dataTable =\n",
              "            await google.colab.kernel.invokeFunction('convertToInteractive',\n",
              "                                                     [key], {});\n",
              "          if (!dataTable) return;\n",
              "\n",
              "          const docLinkHtml = 'Like what you see? Visit the ' +\n",
              "            '<a target=\"_blank\" href=https://colab.research.google.com/notebooks/data_table.ipynb>data table notebook</a>'\n",
              "            + ' to learn more about interactive tables.';\n",
              "          element.innerHTML = '';\n",
              "          dataTable['output_type'] = 'display_data';\n",
              "          await google.colab.output.renderOutput(dataTable, element);\n",
              "          const docLink = document.createElement('div');\n",
              "          docLink.innerHTML = docLinkHtml;\n",
              "          element.appendChild(docLink);\n",
              "        }\n",
              "      </script>\n",
              "    </div>\n",
              "  </div>\n",
              "  "
            ]
          },
          "metadata": {},
          "execution_count": 222
        }
      ]
    },
    {
      "cell_type": "code",
      "source": [
        "data.dropna(inplace=True)"
      ],
      "metadata": {
        "id": "2dqFCp3MTugR"
      },
      "execution_count": 209,
      "outputs": []
    },
    {
      "cell_type": "code",
      "source": [
        "data.shape"
      ],
      "metadata": {
        "colab": {
          "base_uri": "https://localhost:8080/"
        },
        "id": "Gyue91NkKvi4",
        "outputId": "a4b2df6e-0f27-44ce-c5b9-5617caf4efd3"
      },
      "execution_count": 210,
      "outputs": [
        {
          "output_type": "execute_result",
          "data": {
            "text/plain": [
              "(72, 7)"
            ]
          },
          "metadata": {},
          "execution_count": 210
        }
      ]
    },
    {
      "cell_type": "code",
      "source": [
        "def remove(s):\n",
        "  s=str(s)\n",
        "  return(s.replace(\" \",\"\"))"
      ],
      "metadata": {
        "id": "stZGoasAK-Wn"
      },
      "execution_count": 211,
      "outputs": []
    },
    {
      "cell_type": "code",
      "source": [
        "data[\"author\"]=data[\"author\"].apply(remove)"
      ],
      "metadata": {
        "id": "Sz9JCbooT0vB"
      },
      "execution_count": 212,
      "outputs": []
    },
    {
      "cell_type": "code",
      "source": [
        "data[\"author\"]"
      ],
      "metadata": {
        "colab": {
          "base_uri": "https://localhost:8080/"
        },
        "id": "dekbMD2_UIRK",
        "outputId": "f2d4fbac-7dc5-4c67-cd22-729a2d468474"
      },
      "execution_count": 223,
      "outputs": [
        {
          "output_type": "execute_result",
          "data": {
            "text/plain": [
              "0          EmilyHenry\n",
              "1       ColleenHoover\n",
              "2            TomHanks\n",
              "3       RebeccaYarros\n",
              "4        BonnieGarmus\n",
              "           ...       \n",
              "69        LauraNowlin\n",
              "70    KathleenGlasgow\n",
              "71        LynnPainter\n",
              "72         AmberSmith\n",
              "73     KarenM.McManus\n",
              "Name: author, Length: 72, dtype: object"
            ]
          },
          "metadata": {},
          "execution_count": 223
        }
      ]
    },
    {
      "cell_type": "code",
      "source": [
        "data[\"genres\"]=data[\"genres\"].apply(remove)"
      ],
      "metadata": {
        "id": "fG4vsotHef4s"
      },
      "execution_count": 224,
      "outputs": []
    },
    {
      "cell_type": "code",
      "source": [
        "combined_features = data['genres']+' '+data['author']+' '+data['description']"
      ],
      "metadata": {
        "id": "KInhE92LtVXv"
      },
      "execution_count": 225,
      "outputs": []
    },
    {
      "cell_type": "code",
      "source": [
        "combined_features"
      ],
      "metadata": {
        "colab": {
          "base_uri": "https://localhost:8080/"
        },
        "id": "KEggwytVtgnQ",
        "outputId": "20cd444f-68f9-423c-a203-5a1b79aff296"
      },
      "execution_count": 226,
      "outputs": [
        {
          "output_type": "execute_result",
          "data": {
            "text/plain": [
              "0     Fiction EmilyHenry Harriet and Wyn are the per...\n",
              "1     Fiction ColleenHoover In this “brave and heart...\n",
              "2     Fiction TomHanks From the Academy Award-winnin...\n",
              "3     Fiction RebeccaYarros An Instant New York Time...\n",
              "4     Fiction BonnieGarmus As read on BBC Radio 4 Bo...\n",
              "                            ...                        \n",
              "69    JuvenileFiction LauraNowlin If he had been wit...\n",
              "70    YoungAdultFiction KathleenGlasgow #1 NEW YORK ...\n",
              "71    JuvenileFiction LynnPainter A USA TODAY and Ne...\n",
              "72    YoungAdultFiction AmberSmith \"After fourteen-y...\n",
              "73    YoungAdultFiction KarenM.McManus The internati...\n",
              "Length: 72, dtype: object"
            ]
          },
          "metadata": {},
          "execution_count": 226
        }
      ]
    },
    {
      "cell_type": "code",
      "source": [
        "def low(a):\n",
        "    return(a.lower())"
      ],
      "metadata": {
        "id": "4kVKMzLu2y1-"
      },
      "execution_count": 227,
      "outputs": []
    },
    {
      "cell_type": "code",
      "source": [
        "combined_features=combined_features.apply(low)"
      ],
      "metadata": {
        "id": "uaxS_YOI25ES"
      },
      "execution_count": 228,
      "outputs": []
    },
    {
      "cell_type": "code",
      "source": [
        "combined_features"
      ],
      "metadata": {
        "colab": {
          "base_uri": "https://localhost:8080/"
        },
        "id": "ZdB4Tfnb27xo",
        "outputId": "acfbd1c4-cb8d-4006-8428-d8a805458f97"
      },
      "execution_count": 229,
      "outputs": [
        {
          "data": {
            "text/plain": [
              "0     fiction emilyhenry harriet and wyn are the per...\n",
              "1     fiction colleenhoover in this “brave and heart...\n",
              "2     fiction tomhanks from the academy award-winnin...\n",
              "3     fiction rebeccayarros an instant new york time...\n",
              "4     fiction bonniegarmus as read on bbc radio 4 bo...\n",
              "                            ...                        \n",
              "69    juvenilefiction lauranowlin if he had been wit...\n",
              "70    youngadultfiction kathleenglasgow #1 new york ...\n",
              "71    juvenilefiction lynnpainter a usa today and ne...\n",
              "72    youngadultfiction ambersmith \"after fourteen-y...\n",
              "73    youngadultfiction karenm.mcmanus the internati...\n",
              "Length: 72, dtype: object"
            ]
          },
          "execution_count": 229,
          "metadata": {},
          "output_type": "execute_result"
        }
      ]
    },
    {
      "cell_type": "code",
      "source": [
        "data['tags']=combined_features"
      ],
      "metadata": {
        "id": "V_avVcoI2-dd"
      },
      "execution_count": 230,
      "outputs": []
    },
    {
      "cell_type": "code",
      "source": [
        "data['tags'].apply(len).median()"
      ],
      "metadata": {
        "colab": {
          "base_uri": "https://localhost:8080/"
        },
        "id": "yU-8kpA13usM",
        "outputId": "98d8cf89-7755-4aca-f591-fb8db3a94145"
      },
      "execution_count": 231,
      "outputs": [
        {
          "output_type": "execute_result",
          "data": {
            "text/plain": [
              "1194.5"
            ]
          },
          "metadata": {},
          "execution_count": 231
        }
      ]
    },
    {
      "cell_type": "code",
      "source": [
        "from nltk.stem.porter import PorterStemmer\n",
        "ps=PorterStemmer()\n",
        "import pickle\n",
        "pickle.dump(ps,open(\"ps.pkl\",\"wb\"))"
      ],
      "metadata": {
        "id": "Q9kUbIHu30dE"
      },
      "execution_count": 247,
      "outputs": []
    },
    {
      "cell_type": "code",
      "source": [
        "def stem(a):\n",
        "    y=[]\n",
        "    for i in a.split():\n",
        "        y.append(ps.stem(i))\n",
        "    return(\" \".join(y))"
      ],
      "metadata": {
        "id": "DjHG1q9d4Gg3"
      },
      "execution_count": 233,
      "outputs": []
    },
    {
      "cell_type": "code",
      "source": [
        "data['tags']=data['tags'].apply(stem)"
      ],
      "metadata": {
        "id": "OPw-YAx84Kav"
      },
      "execution_count": 234,
      "outputs": []
    },
    {
      "cell_type": "code",
      "source": [
        "from sklearn.feature_extraction.text import CountVectorizer\n",
        "cv=CountVectorizer(max_features=10000,stop_words='english')"
      ],
      "metadata": {
        "id": "hjkgZAok4Nmd"
      },
      "execution_count": 235,
      "outputs": []
    },
    {
      "cell_type": "code",
      "source": [
        "vec=cv.fit_transform(data['tags'])"
      ],
      "metadata": {
        "id": "RfuPfLEO48Mv"
      },
      "execution_count": 236,
      "outputs": []
    },
    {
      "cell_type": "code",
      "source": [
        "import pickle\n",
        "pickle.dump(cv,open(\"cv.pkl\",\"wb\"))"
      ],
      "metadata": {
        "id": "6OBOfuDBhkfG"
      },
      "execution_count": 248,
      "outputs": []
    },
    {
      "cell_type": "code",
      "source": [
        "pickle.dump(vec,open(\"vec.pkl\",\"wb\"))"
      ],
      "metadata": {
        "id": "7CscVOe_h4Ot"
      },
      "execution_count": 249,
      "outputs": []
    },
    {
      "cell_type": "code",
      "source": [
        "len(cv.get_feature_names_out())"
      ],
      "metadata": {
        "colab": {
          "base_uri": "https://localhost:8080/"
        },
        "id": "hEU8OrTt5EOw",
        "outputId": "a70fe4c3-c49f-4128-e17d-7bb2b54de03b"
      },
      "execution_count": 237,
      "outputs": [
        {
          "output_type": "execute_result",
          "data": {
            "text/plain": [
              "3291"
            ]
          },
          "metadata": {},
          "execution_count": 237
        }
      ]
    },
    {
      "cell_type": "code",
      "source": [
        "cv.get_feature_names_out()"
      ],
      "metadata": {
        "colab": {
          "base_uri": "https://localhost:8080/"
        },
        "id": "R5MMA5iz5JAW",
        "outputId": "7172f6ab-7a61-496e-8cdd-e54f8292100e"
      },
      "execution_count": 238,
      "outputs": [
        {
          "output_type": "execute_result",
          "data": {
            "text/plain": [
              "array(['000', '100', '11', ..., 'zott', 'zotty', 'émigré'], dtype=object)"
            ]
          },
          "metadata": {},
          "execution_count": 238
        }
      ]
    },
    {
      "cell_type": "code",
      "source": [
        "from sklearn.metrics.pairwise import cosine_similarity"
      ],
      "metadata": {
        "id": "F5Oltz_I5K4l"
      },
      "execution_count": 239,
      "outputs": []
    },
    {
      "cell_type": "code",
      "source": [
        "vec.shape"
      ],
      "metadata": {
        "colab": {
          "base_uri": "https://localhost:8080/"
        },
        "id": "NtDbeaW26z1E",
        "outputId": "cbb27178-70bd-4491-858b-ba124593925d"
      },
      "execution_count": 240,
      "outputs": [
        {
          "output_type": "execute_result",
          "data": {
            "text/plain": [
              "(72, 3291)"
            ]
          },
          "metadata": {},
          "execution_count": 240
        }
      ]
    },
    {
      "cell_type": "code",
      "source": [
        "similarity=cosine_similarity(vec)"
      ],
      "metadata": {
        "id": "ZJOD2TFR6G3w"
      },
      "execution_count": 241,
      "outputs": []
    },
    {
      "cell_type": "code",
      "source": [
        "similarity.shape"
      ],
      "metadata": {
        "colab": {
          "base_uri": "https://localhost:8080/"
        },
        "id": "935nW2Uz6LDK",
        "outputId": "ed4d8b89-29df-4477-9b6e-22c47bb4fa74"
      },
      "execution_count": 242,
      "outputs": [
        {
          "output_type": "execute_result",
          "data": {
            "text/plain": [
              "(72, 72)"
            ]
          },
          "metadata": {},
          "execution_count": 242
        }
      ]
    },
    {
      "cell_type": "code",
      "source": [],
      "metadata": {
        "id": "n76emb-bYKy7"
      },
      "execution_count": 242,
      "outputs": []
    },
    {
      "cell_type": "code",
      "source": [
        "data.shape"
      ],
      "metadata": {
        "colab": {
          "base_uri": "https://localhost:8080/"
        },
        "id": "PnXXvV02S4rr",
        "outputId": "d2db578a-1def-487d-8412-31d5fc0431fd"
      },
      "execution_count": 243,
      "outputs": [
        {
          "output_type": "execute_result",
          "data": {
            "text/plain": [
              "(72, 8)"
            ]
          },
          "metadata": {},
          "execution_count": 243
        }
      ]
    },
    {
      "cell_type": "code",
      "source": [
        "def gsearch(book):\n",
        "  a=book.split()\n",
        "  if len(a)==1:\n",
        "    return(a[0])\n",
        "  else:\n",
        "    abc=\"\"\n",
        "    for i in a:\n",
        "      abc=abc+i+\"+\"\n",
        "    return(abc[0:len(abc)-1])\n",
        "\n"
      ],
      "metadata": {
        "id": "KLBm-Jd0gOs-"
      },
      "execution_count": 244,
      "outputs": []
    },
    {
      "cell_type": "code",
      "source": [
        "data.to_csv(\"streamlitdata.csv\") "
      ],
      "metadata": {
        "id": "Anj3LbbMfA2F"
      },
      "execution_count": 246,
      "outputs": []
    },
    {
      "cell_type": "code",
      "source": [
        "def recommend(book):\n",
        "    gs=gsearch(book)\n",
        "    data_id=requests.get(\"https://www.googleapis.com/books/v1/volumes?q=\"+gs).json()\n",
        "    \n",
        "    booka=ba=str(data_id['items'][0]['volumeInfo']['authors'][0])\n",
        "    desc=str(data_id['items'][0]['volumeInfo']['description'])\n",
        "    genres=str(data_id['items'][0]['volumeInfo']['categories'][0])\n",
        "    tag=genres+\" \"+booka+\" \"+desc\n",
        "    tag=tag.lower()\n",
        "    tag=stem(tag)\n",
        "    vec1=cv.transform([tag])\n",
        "    from scipy.sparse import vstack\n",
        "    fvec=vstack([vec1, vec])\n",
        "    similarity=cosine_similarity(fvec)\n",
        "    distances=similarity[0]\n",
        "    #print(distances)\n",
        "    print(sorted(list(enumerate(distances)),reverse=True,key=lambda x:x[1]))\n",
        "    book_list_index=sorted(list(enumerate(distances)),reverse=True,key=lambda x:x[1])[1]\n",
        "    if (str(data.iloc[book_list_index[0]-1]['title']).lower())==(book.lower()):\n",
        "      print(\"**\")\n",
        "      book_list_index=sorted(list(enumerate(distances)),reverse=True,key=lambda x:x[1])[2]\n",
        "      print(\"Book recomended-\"+data.iloc[book_list_index[0]-1]['title'])\n",
        "      print(\"Similarity percentage=\"+str(round(book_list_index[1]*100,2)))\n",
        "      print(\"Synopsis\")\n",
        "      print(data.iloc[book_list_index[0]-1]['description'])\n",
        "    else:\n",
        "      print(\"Book recomended-\"+data.iloc[book_list_index[0]-1]['title'])\n",
        "      print(\"Similarity percentage=\"+str(round(book_list_index[1]*100,2)))\n",
        "      print(\"Synopsis\")\n",
        "      print(data.iloc[book_list_index[0]-1]['description'])"
      ],
      "metadata": {
        "id": "WRHkWAcl6OFZ"
      },
      "execution_count": 245,
      "outputs": []
    },
    {
      "cell_type": "code",
      "source": [
        "book_name = input(' Enter book name : ')\n",
        "recommend(book_name)"
      ],
      "metadata": {
        "colab": {
          "base_uri": "https://localhost:8080/"
        },
        "id": "tzU2U0USBYgA",
        "outputId": "89237388-bf9b-49e7-8dd8-b23327cfbd92"
      },
      "execution_count": 252,
      "outputs": [
        {
          "output_type": "stream",
          "name": "stdout",
          "text": [
            " Enter book name : A Good Girl's Guide to Murder\n",
            "[(0, 1.0000000000000009), (37, 0.9802053704292275), (40, 0.2286709562296675), (18, 0.21808163178359585), (58, 0.19889676994268402), (13, 0.19191574817487056), (4, 0.1909132295732775), (14, 0.1899985631412993), (47, 0.18914979873924997), (2, 0.1880004502732226), (49, 0.18328557286053768), (67, 0.15707234190087724), (35, 0.15697584453740765), (25, 0.1566535901061839), (69, 0.15598233600061526), (59, 0.15579940837112777), (72, 0.1536883531667981), (48, 0.14428986028327978), (16, 0.14065934485336348), (41, 0.1403696239590397), (7, 0.13582423754397915), (38, 0.13036250236349373), (3, 0.1301325365347157), (24, 0.12809164997749806), (5, 0.12698551556868345), (52, 0.12605760224021306), (62, 0.12538591243027455), (10, 0.12441341769227567), (64, 0.124199972676009), (42, 0.11598711705208613), (68, 0.10943108619430444), (30, 0.10874556088632192), (21, 0.1055783160014506), (33, 0.09993755853278152), (27, 0.09857780049935491), (11, 0.09599917917212758), (28, 0.09579159651319533), (55, 0.09554691770615137), (50, 0.09504294521816609), (70, 0.09497354911348205), (54, 0.0943290435047989), (51, 0.09231135402821744), (1, 0.09160942865504973), (65, 0.09031318330022142), (8, 0.08833315666719664), (60, 0.08674143788610468), (57, 0.0865484644815831), (31, 0.08311989560377758), (44, 0.0806703320680994), (20, 0.08010851103342269), (19, 0.079499841000477), (43, 0.07408159078957739), (61, 0.07404461206330809), (23, 0.07298407353386312), (29, 0.07287485425043726), (53, 0.07224460082716948), (63, 0.06704015231539909), (56, 0.06441009492646017), (46, 0.06320606175199696), (12, 0.06236480624445477), (32, 0.06172613909377682), (26, 0.060596045558383195), (71, 0.06009623101612528), (45, 0.059972448740488855), (34, 0.05711437181588501), (17, 0.05453644100254487), (66, 0.052999894000318), (36, 0.049288900249677456), (15, 0.04175536213875101), (22, 0.041053541362798), (6, 0.03977529549197075), (39, 0.020788268748151588), (9, 0.0)]\n",
            "**\n",
            "Book recomended-Five Survive\n",
            "Similarity percentage=22.87\n",
            "Synopsis\n",
            "INSTANT #1 NEW YORK TIMES BESTSELLER • From the author of the multimillion-copy bestselling A Good Girl’s Guide to Murder series comes a new blockbuster thriller about a road trip that turns deadly. Eight hours. Six friends. Five survive. Red Kenny is on a road trip for spring break with five friends: Her best friend - the older brother - his perfect girlfriend - a secret crush - a classmate - and a killer. When their RV breaks down in the middle of nowhere with no cell service, they soon realize this is no accident. They have been trapped by someone out there in the dark, someone who clearly wants one of them dead. With eight hours until dawn, the six friends must escape, or figure out which of them is the target. But is there a liar among them? Buried secrets will be forced to light and tensions inside the RV will reach deadly levels. Not all of them will survive the night. . . . With edge-of-your-seat tension and a gripping mystery, Holly Jackson has written another instant classic!\n"
          ]
        }
      ]
    },
    {
      "cell_type": "code",
      "source": [
        "\"Happy Place\".lower()==\"Happy Place\".lower()"
      ],
      "metadata": {
        "id": "_8Y5gE0XBbCC",
        "colab": {
          "base_uri": "https://localhost:8080/"
        },
        "outputId": "048a9679-79ff-4ce6-e2b9-2a3ec08c47ab"
      },
      "execution_count": 150,
      "outputs": [
        {
          "output_type": "execute_result",
          "data": {
            "text/plain": [
              "True"
            ]
          },
          "metadata": {},
          "execution_count": 150
        }
      ]
    },
    {
      "cell_type": "code",
      "source": [
        "a[1]=[7,8,9]"
      ],
      "metadata": {
        "id": "QryVeWI4Dkai"
      },
      "execution_count": null,
      "outputs": []
    },
    {
      "cell_type": "code",
      "source": [
        "a"
      ],
      "metadata": {
        "colab": {
          "base_uri": "https://localhost:8080/"
        },
        "id": "MrCR1Pt2E6qj",
        "outputId": "b5348f81-2c09-4c35-bd65-8f7f637d9242"
      },
      "execution_count": null,
      "outputs": [
        {
          "output_type": "execute_result",
          "data": {
            "text/plain": [
              "[1, [7, 8, 9], 4]"
            ]
          },
          "metadata": {},
          "execution_count": 119
        }
      ]
    },
    {
      "cell_type": "code",
      "source": [],
      "metadata": {
        "id": "CFFN331ZE9L_"
      },
      "execution_count": null,
      "outputs": []
    }
  ]
}